{
  "cells": [
    {
      "cell_type": "code",
      "execution_count": null,
      "metadata": {
        "id": "yWM1BwM8UHQL"
      },
      "outputs": [],
      "source": [
        "import pandas as pd\n",
        "import numpy as np\n",
        "import os\n",
        "import matplotlib.pyplot as plt\n",
        "import cv2\n",
        "from keras.models import Sequential,load_model,Model\n",
        "from keras.layers import Conv2D,MaxPool2D,Dense,Dropout,BatchNormalization,Flatten,Input,AveragePooling2D, GlobalAveragePooling2D\n",
        "from sklearn.model_selection import train_test_split\n",
        "from PIL import Image, ImageOps\n",
        "import seaborn as sns\n",
        "from keras.layers import Conv2D, MaxPooling2D, Activation, Dropout, Flatten, Dense\n",
        "from keras import optimizers\n",
        "import tensorflow as tensorflow\n",
        "from keras.preprocessing.image import ImageDataGenerator\n",
        "from tensorflow.keras.utils import to_categorical\n",
        "from keras.callbacks import CSVLogger, ModelCheckpoint, EarlyStopping\n",
        "from keras.callbacks import ReduceLROnPlateau\n",
        "from keras import layers\n",
        "from keras import optimizers\n",
        "from keras.utils.np_utils import to_categorical\n",
        "from keras.layers.convolutional import SeparableConv2D\n",
        "from keras.layers.convolutional import MaxPooling2D\n",
        "from keras.layers.core import Activation\n",
        "from keras.layers.core import Dropout\n",
        "from keras.layers import SpatialDropout2D\n",
        "from keras.layers.core import Lambda\n",
        "from keras.layers.core import Dense\n",
        "from keras.layers import Flatten\n",
        "from keras.layers import Input\n",
        "from keras.regularizers import l2"
      ]
    },
    {
      "cell_type": "code",
      "execution_count": null,
      "metadata": {
        "colab": {
          "base_uri": "https://localhost:8080/"
        },
        "id": "2necxoxNUw8A",
        "outputId": "03a83590-7bf3-4f64-b300-dcb730eade79"
      },
      "outputs": [
        {
          "output_type": "stream",
          "name": "stdout",
          "text": [
            "Drive already mounted at /content/drive; to attempt to forcibly remount, call drive.mount(\"/content/drive\", force_remount=True).\n"
          ]
        }
      ],
      "source": [
        "# cloud based platform - storage, mount the drive\n",
        "from google.colab import drive\n",
        "drive.mount('/content/drive')"
      ]
    },
    {
      "cell_type": "code",
      "execution_count": null,
      "metadata": {
        "id": "OM04bIRVTYhg"
      },
      "outputs": [],
      "source": [
        "#!rm -rf  /content/drive/MyDrive/Emotion_Detection/utkface_aligned_cropped\n",
        "#!unzip -q  /content/drive/MyDrive/Emotion_Detection/archive.zip -d  /content/drive/MyDrive/Emotion_Detection/"
      ]
    },
    {
      "cell_type": "markdown",
      "metadata": {
        "id": "tV2w067YqPSC"
      },
      "source": [
        "# New Section"
      ]
    },
    {
      "cell_type": "code",
      "execution_count": null,
      "metadata": {
        "id": "SyIzQk0GUqRA",
        "colab": {
          "base_uri": "https://localhost:8080/"
        },
        "outputId": "4a628f13-32c4-4d42-89c1-7da0713be5d9"
      },
      "outputs": [
        {
          "output_type": "stream",
          "name": "stdout",
          "text": [
            "Number Of İmages:  23708\n",
            "gender_classes shape:  (23708,)\n"
          ]
        }
      ],
      "source": [
        "path = '/content/drive/MyDrive/Emotion_Detection/UTKFace/'\n",
        "#/content/drive/MyDrive/Emotion_Detection/crop_part1\n",
        "os.chdir(path)\n",
        "file_list = os.listdir() #Go path and list files\n",
        "print(\"Number Of İmages: \", len(file_list))\n",
        "#Gender\n",
        "gender = []\n",
        "for i in file_list:\n",
        "    gender.append(i.split('_')[1])\n",
        "\n",
        "gender_labels= [\"Male\",\"Female\"]\n",
        "\n",
        "gender_classes = []\n",
        "y_gender= []\n",
        "for i in gender:\n",
        "    i= int(i)\n",
        "    if i== 0:\n",
        "        gender_classes.append(0)\n",
        "    else:\n",
        "        gender_classes.append(1)\n",
        "    y_gender.append(i)\n",
        "\n",
        "gender_classes= np.array(gender_classes)\n",
        "print(\"gender_classes shape: \",gender_classes.shape)\n"
      ]
    },
    {
      "cell_type": "code",
      "execution_count": null,
      "metadata": {
        "id": "1tMFNN73JfFi"
      },
      "outputs": [],
      "source": [
        "images = []\n",
        "age = []\n",
        "genders = []"
      ]
    },
    {
      "cell_type": "code",
      "execution_count": null,
      "metadata": {
        "id": "jhlZmEwUCPhb",
        "colab": {
          "base_uri": "https://localhost:8080/"
        },
        "outputId": "0544e4ff-ef5c-4fbe-a27e-72e9b5958bef"
      },
      "outputs": [
        {
          "output_type": "stream",
          "name": "stderr",
          "text": [
            "IOPub data rate exceeded.\n",
            "The notebook server will temporarily stop sending output\n",
            "to the client in order to avoid crashing it.\n",
            "To change this limit, set the config variable\n",
            "`--NotebookApp.iopub_data_rate_limit`.\n",
            "\n",
            "Current values:\n",
            "NotebookApp.iopub_data_rate_limit=1000000.0 (bytes/sec)\n",
            "NotebookApp.rate_limit_window=3.0 (secs)\n",
            "\n"
          ]
        }
      ],
      "source": [
        "from keras_preprocessing.image.affine_transformations import apply_brightness_shift\n",
        "from keras_preprocessing.image.affine_transformations import apply_brightness_shift\n",
        "\n",
        "#for i in os.listdir(path)[0:9000]:\n",
        "for i in os.listdir(path):\n",
        "    split = i.split('_')\n",
        "    if (int(split[0])) <=20:\n",
        "        age.append(0)\n",
        "    elif (int(split[0])) > 20 and (int(split[0])) <=40:\n",
        "        age.append(1)\n",
        "    elif (int(split[0])) > 40 and (int(split[0])) <=60:\n",
        "        age.append(2)\n",
        "    elif (int(split[0])) > 60 and (int(split[0])) <=80:\n",
        "        age.append(3)\n",
        "    elif (int(split[0])) > 80: \n",
        "        age.append(4)\n",
        "        print(age)\n",
        " \n",
        "\n"
      ]
    },
    {
      "cell_type": "code",
      "execution_count": null,
      "metadata": {
        "id": "ikg-ozGiKjZj"
      },
      "outputs": [],
      "source": [
        "age = np.array(age)"
      ]
    },
    {
      "cell_type": "code",
      "execution_count": null,
      "metadata": {
        "id": "fqkNeBZYQz_h",
        "colab": {
          "base_uri": "https://localhost:8080/"
        },
        "outputId": "8e66c158-b52e-4ccb-8b68-0977a41d143b"
      },
      "outputs": [
        {
          "output_type": "execute_result",
          "data": {
            "text/plain": [
              "(23708,)"
            ]
          },
          "metadata": {},
          "execution_count": 22
        }
      ],
      "source": [
        "age.shape"
      ]
    },
    {
      "cell_type": "code",
      "execution_count": null,
      "metadata": {
        "id": "tLfQfY7QKtVd",
        "colab": {
          "base_uri": "https://localhost:8080/"
        },
        "outputId": "6b6716e7-009e-4ccc-827a-b3625802d21f"
      },
      "outputs": [
        {
          "output_type": "execute_result",
          "data": {
            "text/plain": [
              "array([0, 1, 2, 3, 4])"
            ]
          },
          "metadata": {},
          "execution_count": 23
        }
      ],
      "source": [
        "np.unique(age)"
      ]
    },
    {
      "cell_type": "code",
      "execution_count": null,
      "metadata": {
        "id": "23dUdO57eH9N",
        "colab": {
          "base_uri": "https://localhost:8080/"
        },
        "outputId": "b8d0afe8-78d8-48e9-fa48-e77b9f874255"
      },
      "outputs": [
        {
          "output_type": "execute_result",
          "data": {
            "text/plain": [
              "4"
            ]
          },
          "metadata": {},
          "execution_count": 24
        }
      ],
      "source": [
        "age[11]"
      ]
    },
    {
      "cell_type": "code",
      "execution_count": null,
      "metadata": {
        "id": "Mo_Ky34066Zx",
        "colab": {
          "base_uri": "https://localhost:8080/"
        },
        "outputId": "c0e67811-f823-4648-9aa2-7f09529f34f5"
      },
      "outputs": [
        {
          "output_type": "stream",
          "name": "stdout",
          "text": [
            "(23708,)\n"
          ]
        }
      ],
      "source": [
        "## age_continuous\n",
        "age_cont = []\n",
        "for i in file_list:\n",
        "    age_cont.append(int(i.split(\"_\")[0]))\n",
        "    \n",
        "age_cont = np.array(age_cont)\n",
        "print(age_cont.shape)"
      ]
    },
    {
      "cell_type": "code",
      "execution_count": null,
      "metadata": {
        "id": "53jdPGuzI0FR",
        "colab": {
          "base_uri": "https://localhost:8080/",
          "height": 36
        },
        "outputId": "a7658fa2-2692-45b8-9fba-9695829f5e20"
      },
      "outputs": [
        {
          "output_type": "execute_result",
          "data": {
            "text/plain": [
              "'/content/drive/MyDrive/Emotion_Detection/UTKFace/'"
            ],
            "application/vnd.google.colaboratory.intrinsic+json": {
              "type": "string"
            }
          },
          "metadata": {},
          "execution_count": 26
        }
      ],
      "source": [
        "os.chdir(path)\n",
        "file_list = os.listdir()\n",
        "path"
      ]
    },
    {
      "cell_type": "code",
      "execution_count": null,
      "metadata": {
        "id": "Sxqa1LgVLpF9",
        "colab": {
          "base_uri": "https://localhost:8080/"
        },
        "outputId": "f33cc800-1c87-4798-bed3-f86ca7d8246d"
      },
      "outputs": [
        {
          "output_type": "stream",
          "name": "stdout",
          "text": [
            "x_data shape:  (23708, 48, 48, 3)\n"
          ]
        }
      ],
      "source": [
        "x_data=[]\n",
        "for file in file_list:\n",
        "    img= cv2.imread(file)\n",
        "    img=cv2.resize(img,dsize = (48,48)) # (200,200)--->(48,48)\n",
        "    x_data.append(img)\n",
        "x_data= np.array(x_data)\n",
        "print(\"x_data shape: \",x_data.shape)"
      ]
    },
    {
      "cell_type": "code",
      "execution_count": null,
      "metadata": {
        "id": "AOoXryVdaEDj"
      },
      "outputs": [],
      "source": [
        "# parameters\n",
        "input_shape = (48, 48, 3)\n",
        "batch_size=32\n",
        "verbose = 1\n",
        "num_epochs = 100\n",
        "patience = 16\n",
        "base_path = '/content/drive/My Drive/Emotion_Detection/GENDER_AGE/'\n",
        "l2_regularization=0.001"
      ]
    },
    {
      "cell_type": "code",
      "execution_count": null,
      "metadata": {
        "id": "SKAndtY6q_xx",
        "colab": {
          "base_uri": "https://localhost:8080/"
        },
        "outputId": "fb011059-ac95-4548-c7ca-0e2a7e8c2eaa"
      },
      "outputs": [
        {
          "output_type": "stream",
          "name": "stdout",
          "text": [
            "Samples in Training: (18966, 48, 48, 3)\n",
            "Samples in Testing: (4742, 48, 48, 3)\n",
            "y_train shape:  (18966, 5)\n",
            "y_test shape:  (4742, 5)\n",
            "input shape:  (48, 48, 3)\n"
          ]
        }
      ],
      "source": [
        "## Train-Test Split for age\n",
        "x_train,x_test,y_train,y_test=train_test_split(x_data,age,test_size=0.2,\n",
        "                                               shuffle=True,random_state=42)\n",
        "\n",
        "#one hot encoding\n",
        "y_train= to_categorical(y_train,num_classes=5)\n",
        "y_test= to_categorical(y_test,num_classes=5) \n",
        "x_train = x_train / 255.\n",
        "x_test = x_test / 255.\n",
        "\n",
        "print(\"Samples in Training:\",x_train.shape)\n",
        "print(\"Samples in Testing:\",x_test.shape)\n",
        "\n",
        "\n",
        "print(\"y_train shape: \",y_train.shape)\n",
        "print(\"y_test shape: \",y_test.shape)\n",
        "\n",
        "input_shape= x_train.shape[1:] #we don't take the number of samples\n",
        "print(\"input shape: \",input_shape)"
      ]
    },
    {
      "cell_type": "code",
      "execution_count": null,
      "metadata": {
        "id": "osIHBLZwMVNT"
      },
      "outputs": [],
      "source": [
        "def entry_flow(inputs) :\n",
        "\n",
        "    x = Conv2D(32, 5, strides = 2, padding='same')(inputs)\n",
        "    x = Activation('relu')(x)\n",
        "    x = BatchNormalization()(x)\n",
        "\n",
        "    x = Conv2D(64,5,padding='same')(x)\n",
        "    x = Activation('relu')(x)\n",
        "    x = BatchNormalization()(x)\n",
        "\n",
        "    previous_block_activation = x\n",
        "\n",
        "    for size in [32, 64, 256] :\n",
        "\n",
        "        x = SeparableConv2D(size, 5, padding='same')(x)\n",
        "        x = Activation('relu')(x)\n",
        "        x = BatchNormalization()(x)\n",
        "        x = Dropout(0.3)(x)\n",
        "\n",
        "        x = SeparableConv2D(size, 5, padding='same')(x)\n",
        "        x = Activation('relu')(x)\n",
        "        x = BatchNormalization()(x)\n",
        "        x = Dropout(0.3)(x)\n",
        "  \n",
        "        x = MaxPooling2D(3, strides=2, padding='same')(x)\n",
        "\n",
        "        residual = Conv2D(size, 1, strides=2, padding='same')(previous_block_activation)\n",
        "\n",
        "        x = tensorflow.keras.layers.Add()([x, residual])\n",
        "        previous_block_activation = x\n",
        "\n",
        "    return x"
      ]
    },
    {
      "cell_type": "code",
      "execution_count": null,
      "metadata": {
        "id": "XWn3Vhh1EHbI"
      },
      "outputs": [],
      "source": [
        "def middle_flow(x, num_blocks=14) :\n",
        "\n",
        "    previous_block_activation = x\n",
        "\n",
        "    for _ in range(num_blocks) :\n",
        "\n",
        "        x = Activation('relu')(x)\n",
        "        x = SeparableConv2D(256, 5, padding='same')(x)\n",
        "        x = BatchNormalization()(x)\n",
        "        x = Dropout(0.3)(x)\n",
        "\n",
        "        x = Activation('relu')(x)\n",
        "        x = SeparableConv2D(256, 5, padding='same')(x)\n",
        "        x = BatchNormalization()(x)\n",
        "        x = Dropout(0.3)(x)\n",
        "\n",
        "        x = Activation('relu')(x)\n",
        "        x = SeparableConv2D(256, 5, padding='same')(x)\n",
        "        x = BatchNormalization()(x)\n",
        "        x = Dropout(0.3)(x)\n",
        "        \n",
        "        x = Activation('relu')(x)\n",
        "        x = SeparableConv2D(256, 5, padding='same')(x)\n",
        "        x = BatchNormalization()(x)\n",
        "        x = Dropout(0.3)(x)\n",
        "        \n",
        "        x = Activation('relu')(x)\n",
        "        x = SeparableConv2D(256, 5, padding='same')(x)\n",
        "        x = BatchNormalization()(x)\n",
        "        x = Dropout(0.3)(x)\n",
        "\n",
        "        x = tensorflow.keras.layers.Add()([x, previous_block_activation])\n",
        "        previous_block_activation = x\n",
        "\n",
        "    return x"
      ]
    },
    {
      "cell_type": "code",
      "execution_count": null,
      "metadata": {
        "id": "_fwipntEELLx"
      },
      "outputs": [],
      "source": [
        "def exit_flow(x) :\n",
        "\n",
        "    previous_block_activation = x\n",
        "\n",
        "    x = Activation('relu')(x)\n",
        "    x = SeparableConv2D(312, 5, padding='same')(x)\n",
        "    x = BatchNormalization()(x)\n",
        "    x = Dropout(0.3)(x)\n",
        "\n",
        "    x = Activation('relu')(x)\n",
        "    x = SeparableConv2D(624, 5, padding='same')(x) \n",
        "    x = BatchNormalization()(x)\n",
        "    x = Dropout(0.3)(x)\n",
        "\n",
        "    x = MaxPooling2D(3, strides=2, padding='same')(x)\n",
        "\n",
        "    residual = Conv2D(624, 1, strides=2, padding='same')(previous_block_activation)\n",
        "    x = tensorflow.keras.layers.Add()([x, residual])\n",
        "\n",
        "\n",
        "    x = SeparableConv2D(312, 5, padding='same')(x)\n",
        "    x = Activation('relu')(x)\n",
        "    x = BatchNormalization()(x)\n",
        "    x = Dropout(0.3)(x)\n",
        "\n",
        "    x = SeparableConv2D(312, 3, padding='same')(x)\n",
        "    x = Activation('relu')(x)\n",
        "    x = BatchNormalization()(x)\n",
        "\n",
        "    x = GlobalAveragePooling2D()(x)\n",
        "    x = Dense(5, activation='softmax')(x)\n",
        "\n",
        "    return x\n"
      ]
    },
    {
      "cell_type": "code",
      "execution_count": null,
      "metadata": {
        "id": "p__RzQwaEO_O"
      },
      "outputs": [],
      "source": [
        "img_input = Input(shape=(48, 48, 3))\n",
        "output = exit_flow(middle_flow(entry_flow(img_input)))"
      ]
    },
    {
      "cell_type": "code",
      "execution_count": null,
      "metadata": {
        "id": "gIhbOg_lETNT"
      },
      "outputs": [],
      "source": [
        "age_model = Model(img_input, output)"
      ]
    },
    {
      "cell_type": "code",
      "execution_count": null,
      "metadata": {
        "id": "Lsv3Uobf9iKM"
      },
      "outputs": [],
      "source": [
        "datagen = ImageDataGenerator(\n",
        "      width_shift_range = 0.1, height_shift_range = 0.1, horizontal_flip = True)     \n",
        "test_datagen = ImageDataGenerator()\n",
        "\n",
        "train1 = datagen.flow(x_train, y_train, batch_size=batch_size)\n",
        "test1 = test_datagen.flow(x_test, y_test, batch_size=batch_size)"
      ]
    },
    {
      "cell_type": "code",
      "execution_count": null,
      "metadata": {
        "id": "aY62QKrl8c2b",
        "colab": {
          "base_uri": "https://localhost:8080/"
        },
        "outputId": "1fcb476e-36b7-460d-a4e9-7876eb5f2df0"
      },
      "outputs": [
        {
          "output_type": "stream",
          "name": "stdout",
          "text": [
            "Epoch 1/90\n"
          ]
        },
        {
          "output_type": "stream",
          "name": "stderr",
          "text": [
            "/usr/local/lib/python3.7/dist-packages/keras/optimizer_v2/adam.py:105: UserWarning: The `lr` argument is deprecated, use `learning_rate` instead.\n",
            "  super(Adam, self).__init__(name, **kwargs)\n"
          ]
        },
        {
          "output_type": "stream",
          "name": "stdout",
          "text": [
            "592/593 [============================>.] - ETA: 0s - loss: 0.1198 - accuracy: 0.5482\n",
            "Epoch 1: val_loss improved from inf to 0.11384, saving model to /content/drive/My Drive/Emotion_Detection/GENDER_AGE/age_model_Xception.01.hdf5\n",
            "593/593 [==============================] - 63s 73ms/step - loss: 0.1198 - accuracy: 0.5484 - val_loss: 0.1138 - val_accuracy: 0.5784 - lr: 0.0010\n",
            "Epoch 2/90\n",
            "592/593 [============================>.] - ETA: 0s - loss: 0.1059 - accuracy: 0.6078\n",
            "Epoch 2: val_loss did not improve from 0.11384\n",
            "593/593 [==============================] - 39s 66ms/step - loss: 0.1059 - accuracy: 0.6079 - val_loss: 0.1348 - val_accuracy: 0.5148 - lr: 0.0010\n",
            "Epoch 3/90\n",
            "592/593 [============================>.] - ETA: 0s - loss: 0.1004 - accuracy: 0.6305\n",
            "Epoch 3: val_loss improved from 0.11384 to 0.09843, saving model to /content/drive/My Drive/Emotion_Detection/GENDER_AGE/age_model_Xception.03.hdf5\n",
            "593/593 [==============================] - 41s 68ms/step - loss: 0.1004 - accuracy: 0.6306 - val_loss: 0.0984 - val_accuracy: 0.6447 - lr: 0.0010\n",
            "Epoch 4/90\n",
            "592/593 [============================>.] - ETA: 0s - loss: 0.0956 - accuracy: 0.6488\n",
            "Epoch 4: val_loss improved from 0.09843 to 0.09565, saving model to /content/drive/My Drive/Emotion_Detection/GENDER_AGE/age_model_Xception.04.hdf5\n",
            "593/593 [==============================] - 41s 69ms/step - loss: 0.0956 - accuracy: 0.6488 - val_loss: 0.0956 - val_accuracy: 0.6398 - lr: 0.0010\n",
            "Epoch 5/90\n",
            "592/593 [============================>.] - ETA: 0s - loss: 0.0911 - accuracy: 0.6695\n",
            "Epoch 5: val_loss did not improve from 0.09565\n",
            "593/593 [==============================] - 39s 66ms/step - loss: 0.0911 - accuracy: 0.6698 - val_loss: 0.0975 - val_accuracy: 0.6385 - lr: 0.0010\n",
            "Epoch 6/90\n",
            "592/593 [============================>.] - ETA: 0s - loss: 0.0890 - accuracy: 0.6746\n",
            "Epoch 6: val_loss improved from 0.09565 to 0.09242, saving model to /content/drive/My Drive/Emotion_Detection/GENDER_AGE/age_model_Xception.06.hdf5\n",
            "593/593 [==============================] - 40s 68ms/step - loss: 0.0889 - accuracy: 0.6748 - val_loss: 0.0924 - val_accuracy: 0.6653 - lr: 0.0010\n",
            "Epoch 7/90\n",
            "592/593 [============================>.] - ETA: 0s - loss: 0.0863 - accuracy: 0.6870\n",
            "Epoch 7: val_loss improved from 0.09242 to 0.08465, saving model to /content/drive/My Drive/Emotion_Detection/GENDER_AGE/age_model_Xception.07.hdf5\n",
            "593/593 [==============================] - 41s 69ms/step - loss: 0.0863 - accuracy: 0.6872 - val_loss: 0.0847 - val_accuracy: 0.6898 - lr: 0.0010\n",
            "Epoch 8/90\n",
            "592/593 [============================>.] - ETA: 0s - loss: 0.0844 - accuracy: 0.6910\n",
            "Epoch 8: val_loss improved from 0.08465 to 0.08423, saving model to /content/drive/My Drive/Emotion_Detection/GENDER_AGE/age_model_Xception.08.hdf5\n",
            "593/593 [==============================] - 41s 69ms/step - loss: 0.0844 - accuracy: 0.6912 - val_loss: 0.0842 - val_accuracy: 0.6932 - lr: 0.0010\n",
            "Epoch 9/90\n",
            "593/593 [==============================] - ETA: 0s - loss: 0.0825 - accuracy: 0.6987\n",
            "Epoch 9: val_loss did not improve from 0.08423\n",
            "593/593 [==============================] - 39s 66ms/step - loss: 0.0825 - accuracy: 0.6987 - val_loss: 0.0847 - val_accuracy: 0.6862 - lr: 0.0010\n",
            "Epoch 10/90\n",
            "593/593 [==============================] - ETA: 0s - loss: 0.0812 - accuracy: 0.7055\n",
            "Epoch 10: val_loss improved from 0.08423 to 0.07854, saving model to /content/drive/My Drive/Emotion_Detection/GENDER_AGE/age_model_Xception.10.hdf5\n",
            "593/593 [==============================] - 41s 68ms/step - loss: 0.0812 - accuracy: 0.7055 - val_loss: 0.0785 - val_accuracy: 0.7100 - lr: 0.0010\n",
            "Epoch 11/90\n",
            "593/593 [==============================] - ETA: 0s - loss: 0.0801 - accuracy: 0.7094\n",
            "Epoch 11: val_loss did not improve from 0.07854\n",
            "593/593 [==============================] - 39s 66ms/step - loss: 0.0801 - accuracy: 0.7094 - val_loss: 0.0791 - val_accuracy: 0.7178 - lr: 0.0010\n",
            "Epoch 12/90\n",
            "593/593 [==============================] - ETA: 0s - loss: 0.0793 - accuracy: 0.7133\n",
            "Epoch 12: val_loss did not improve from 0.07854\n",
            "593/593 [==============================] - 41s 68ms/step - loss: 0.0793 - accuracy: 0.7133 - val_loss: 0.0803 - val_accuracy: 0.7035 - lr: 0.0010\n",
            "Epoch 13/90\n",
            "592/593 [============================>.] - ETA: 0s - loss: 0.0775 - accuracy: 0.7191\n",
            "Epoch 13: val_loss did not improve from 0.07854\n",
            "593/593 [==============================] - 39s 66ms/step - loss: 0.0775 - accuracy: 0.7191 - val_loss: 0.0791 - val_accuracy: 0.7029 - lr: 0.0010\n",
            "Epoch 14/90\n",
            "593/593 [==============================] - ETA: 0s - loss: 0.0769 - accuracy: 0.7242\n",
            "Epoch 14: val_loss did not improve from 0.07854\n",
            "\n",
            "Epoch 14: ReduceLROnPlateau reducing learning rate to 0.00010000000474974513.\n",
            "593/593 [==============================] - 39s 65ms/step - loss: 0.0769 - accuracy: 0.7242 - val_loss: 0.0803 - val_accuracy: 0.7092 - lr: 0.0010\n",
            "Epoch 15/90\n",
            "593/593 [==============================] - ETA: 0s - loss: 0.0722 - accuracy: 0.7440\n",
            "Epoch 15: val_loss improved from 0.07854 to 0.07296, saving model to /content/drive/My Drive/Emotion_Detection/GENDER_AGE/age_model_Xception.15.hdf5\n",
            "593/593 [==============================] - 41s 69ms/step - loss: 0.0722 - accuracy: 0.7440 - val_loss: 0.0730 - val_accuracy: 0.7341 - lr: 1.0000e-04\n",
            "Epoch 16/90\n",
            "593/593 [==============================] - ETA: 0s - loss: 0.0716 - accuracy: 0.7442\n",
            "Epoch 16: val_loss improved from 0.07296 to 0.07215, saving model to /content/drive/My Drive/Emotion_Detection/GENDER_AGE/age_model_Xception.16.hdf5\n",
            "593/593 [==============================] - 41s 69ms/step - loss: 0.0716 - accuracy: 0.7442 - val_loss: 0.0721 - val_accuracy: 0.7412 - lr: 1.0000e-04\n",
            "Epoch 17/90\n",
            "592/593 [============================>.] - ETA: 0s - loss: 0.0704 - accuracy: 0.7503\n",
            "Epoch 17: val_loss improved from 0.07215 to 0.07138, saving model to /content/drive/My Drive/Emotion_Detection/GENDER_AGE/age_model_Xception.17.hdf5\n",
            "593/593 [==============================] - 41s 69ms/step - loss: 0.0704 - accuracy: 0.7503 - val_loss: 0.0714 - val_accuracy: 0.7391 - lr: 1.0000e-04\n",
            "Epoch 18/90\n",
            "593/593 [==============================] - ETA: 0s - loss: 0.0702 - accuracy: 0.7517\n",
            "Epoch 18: val_loss improved from 0.07138 to 0.07033, saving model to /content/drive/My Drive/Emotion_Detection/GENDER_AGE/age_model_Xception.18.hdf5\n",
            "593/593 [==============================] - 41s 69ms/step - loss: 0.0702 - accuracy: 0.7517 - val_loss: 0.0703 - val_accuracy: 0.7461 - lr: 1.0000e-04\n",
            "Epoch 19/90\n",
            "593/593 [==============================] - ETA: 0s - loss: 0.0695 - accuracy: 0.7531\n",
            "Epoch 19: val_loss improved from 0.07033 to 0.06970, saving model to /content/drive/My Drive/Emotion_Detection/GENDER_AGE/age_model_Xception.19.hdf5\n",
            "593/593 [==============================] - 41s 70ms/step - loss: 0.0695 - accuracy: 0.7531 - val_loss: 0.0697 - val_accuracy: 0.7461 - lr: 1.0000e-04\n",
            "Epoch 20/90\n",
            "592/593 [============================>.] - ETA: 0s - loss: 0.0690 - accuracy: 0.7553\n",
            "Epoch 20: val_loss improved from 0.06970 to 0.06956, saving model to /content/drive/My Drive/Emotion_Detection/GENDER_AGE/age_model_Xception.20.hdf5\n",
            "593/593 [==============================] - 41s 69ms/step - loss: 0.0690 - accuracy: 0.7552 - val_loss: 0.0696 - val_accuracy: 0.7472 - lr: 1.0000e-04\n",
            "Epoch 21/90\n",
            "593/593 [==============================] - ETA: 0s - loss: 0.0687 - accuracy: 0.7565\n",
            "Epoch 21: val_loss did not improve from 0.06956\n",
            "593/593 [==============================] - 39s 66ms/step - loss: 0.0687 - accuracy: 0.7565 - val_loss: 0.0697 - val_accuracy: 0.7493 - lr: 1.0000e-04\n",
            "Epoch 22/90\n",
            "593/593 [==============================] - ETA: 0s - loss: 0.0683 - accuracy: 0.7582\n",
            "Epoch 22: val_loss improved from 0.06956 to 0.06923, saving model to /content/drive/My Drive/Emotion_Detection/GENDER_AGE/age_model_Xception.22.hdf5\n",
            "593/593 [==============================] - 41s 68ms/step - loss: 0.0683 - accuracy: 0.7582 - val_loss: 0.0692 - val_accuracy: 0.7503 - lr: 1.0000e-04\n",
            "Epoch 23/90\n",
            "593/593 [==============================] - ETA: 0s - loss: 0.0685 - accuracy: 0.7555\n",
            "Epoch 23: val_loss improved from 0.06923 to 0.06896, saving model to /content/drive/My Drive/Emotion_Detection/GENDER_AGE/age_model_Xception.23.hdf5\n",
            "593/593 [==============================] - 41s 70ms/step - loss: 0.0685 - accuracy: 0.7555 - val_loss: 0.0690 - val_accuracy: 0.7526 - lr: 1.0000e-04\n",
            "Epoch 24/90\n",
            "593/593 [==============================] - ETA: 0s - loss: 0.0680 - accuracy: 0.7576\n",
            "Epoch 24: val_loss did not improve from 0.06896\n",
            "593/593 [==============================] - 40s 68ms/step - loss: 0.0680 - accuracy: 0.7576 - val_loss: 0.0690 - val_accuracy: 0.7524 - lr: 1.0000e-04\n",
            "Epoch 25/90\n",
            "592/593 [============================>.] - ETA: 0s - loss: 0.0670 - accuracy: 0.7633\n",
            "Epoch 25: val_loss improved from 0.06896 to 0.06866, saving model to /content/drive/My Drive/Emotion_Detection/GENDER_AGE/age_model_Xception.25.hdf5\n",
            "593/593 [==============================] - 42s 70ms/step - loss: 0.0671 - accuracy: 0.7632 - val_loss: 0.0687 - val_accuracy: 0.7560 - lr: 1.0000e-04\n",
            "Epoch 26/90\n",
            "593/593 [==============================] - ETA: 0s - loss: 0.0676 - accuracy: 0.7610\n",
            "Epoch 26: val_loss did not improve from 0.06866\n",
            "593/593 [==============================] - 40s 68ms/step - loss: 0.0676 - accuracy: 0.7610 - val_loss: 0.0692 - val_accuracy: 0.7522 - lr: 1.0000e-04\n",
            "Epoch 27/90\n",
            "593/593 [==============================] - ETA: 0s - loss: 0.0670 - accuracy: 0.7629\n",
            "Epoch 27: val_loss did not improve from 0.06866\n",
            "593/593 [==============================] - 40s 67ms/step - loss: 0.0670 - accuracy: 0.7629 - val_loss: 0.0691 - val_accuracy: 0.7503 - lr: 1.0000e-04\n",
            "Epoch 28/90\n",
            "593/593 [==============================] - ETA: 0s - loss: 0.0670 - accuracy: 0.7634\n",
            "Epoch 28: val_loss did not improve from 0.06866\n",
            "593/593 [==============================] - 40s 67ms/step - loss: 0.0670 - accuracy: 0.7634 - val_loss: 0.0688 - val_accuracy: 0.7493 - lr: 1.0000e-04\n",
            "Epoch 29/90\n",
            "592/593 [============================>.] - ETA: 0s - loss: 0.0661 - accuracy: 0.7682\n",
            "Epoch 29: val_loss did not improve from 0.06866\n",
            "\n",
            "Epoch 29: ReduceLROnPlateau reducing learning rate to 1.0000000474974514e-05.\n",
            "593/593 [==============================] - 40s 67ms/step - loss: 0.0661 - accuracy: 0.7682 - val_loss: 0.0696 - val_accuracy: 0.7484 - lr: 1.0000e-04\n",
            "Epoch 30/90\n",
            "593/593 [==============================] - ETA: 0s - loss: 0.0662 - accuracy: 0.7686\n",
            "Epoch 30: val_loss improved from 0.06866 to 0.06821, saving model to /content/drive/My Drive/Emotion_Detection/GENDER_AGE/age_model_Xception.30.hdf5\n",
            "593/593 [==============================] - 43s 72ms/step - loss: 0.0662 - accuracy: 0.7686 - val_loss: 0.0682 - val_accuracy: 0.7552 - lr: 1.0000e-05\n",
            "Epoch 31/90\n",
            "592/593 [============================>.] - ETA: 0s - loss: 0.0662 - accuracy: 0.7648\n",
            "Epoch 31: val_loss improved from 0.06821 to 0.06811, saving model to /content/drive/My Drive/Emotion_Detection/GENDER_AGE/age_model_Xception.31.hdf5\n",
            "593/593 [==============================] - 42s 71ms/step - loss: 0.0661 - accuracy: 0.7650 - val_loss: 0.0681 - val_accuracy: 0.7556 - lr: 1.0000e-05\n",
            "Epoch 32/90\n",
            "593/593 [==============================] - ETA: 0s - loss: 0.0658 - accuracy: 0.7666\n",
            "Epoch 32: val_loss did not improve from 0.06811\n",
            "593/593 [==============================] - 40s 68ms/step - loss: 0.0658 - accuracy: 0.7666 - val_loss: 0.0681 - val_accuracy: 0.7560 - lr: 1.0000e-05\n",
            "Epoch 33/90\n",
            "593/593 [==============================] - ETA: 0s - loss: 0.0655 - accuracy: 0.7673\n",
            "Epoch 33: val_loss improved from 0.06811 to 0.06804, saving model to /content/drive/My Drive/Emotion_Detection/GENDER_AGE/age_model_Xception.33.hdf5\n",
            "593/593 [==============================] - 42s 71ms/step - loss: 0.0655 - accuracy: 0.7673 - val_loss: 0.0680 - val_accuracy: 0.7560 - lr: 1.0000e-05\n",
            "Epoch 34/90\n",
            "592/593 [============================>.] - ETA: 0s - loss: 0.0656 - accuracy: 0.7674\n",
            "Epoch 34: val_loss did not improve from 0.06804\n",
            "593/593 [==============================] - 40s 68ms/step - loss: 0.0656 - accuracy: 0.7674 - val_loss: 0.0681 - val_accuracy: 0.7556 - lr: 1.0000e-05\n",
            "Epoch 35/90\n",
            "593/593 [==============================] - ETA: 0s - loss: 0.0657 - accuracy: 0.7661\n",
            "Epoch 35: val_loss did not improve from 0.06804\n",
            "\n",
            "Epoch 35: ReduceLROnPlateau reducing learning rate to 1.0000000656873453e-06.\n",
            "593/593 [==============================] - 40s 67ms/step - loss: 0.0657 - accuracy: 0.7661 - val_loss: 0.0681 - val_accuracy: 0.7537 - lr: 1.0000e-05\n",
            "Epoch 36/90\n",
            "593/593 [==============================] - ETA: 0s - loss: 0.0654 - accuracy: 0.7686\n",
            "Epoch 36: val_loss did not improve from 0.06804\n",
            "593/593 [==============================] - 40s 67ms/step - loss: 0.0654 - accuracy: 0.7686 - val_loss: 0.0681 - val_accuracy: 0.7533 - lr: 1.0000e-06\n",
            "Epoch 37/90\n",
            "592/593 [============================>.] - ETA: 0s - loss: 0.0657 - accuracy: 0.7693\n",
            "Epoch 37: val_loss improved from 0.06804 to 0.06803, saving model to /content/drive/My Drive/Emotion_Detection/GENDER_AGE/age_model_Xception.37.hdf5\n",
            "593/593 [==============================] - 42s 70ms/step - loss: 0.0656 - accuracy: 0.7693 - val_loss: 0.0680 - val_accuracy: 0.7535 - lr: 1.0000e-06\n",
            "Epoch 38/90\n",
            "592/593 [============================>.] - ETA: 0s - loss: 0.0650 - accuracy: 0.7713\n",
            "Epoch 38: val_loss did not improve from 0.06803\n",
            "593/593 [==============================] - 40s 68ms/step - loss: 0.0651 - accuracy: 0.7710 - val_loss: 0.0681 - val_accuracy: 0.7535 - lr: 1.0000e-06\n",
            "Epoch 39/90\n",
            "593/593 [==============================] - ETA: 0s - loss: 0.0654 - accuracy: 0.7696\n",
            "Epoch 39: val_loss did not improve from 0.06803\n",
            "\n",
            "Epoch 39: ReduceLROnPlateau reducing learning rate to 1.0000001111620805e-07.\n",
            "593/593 [==============================] - 41s 69ms/step - loss: 0.0654 - accuracy: 0.7696 - val_loss: 0.0681 - val_accuracy: 0.7539 - lr: 1.0000e-06\n",
            "Epoch 40/90\n",
            "592/593 [============================>.] - ETA: 0s - loss: 0.0660 - accuracy: 0.7673\n",
            "Epoch 40: val_loss did not improve from 0.06803\n",
            "593/593 [==============================] - 40s 67ms/step - loss: 0.0660 - accuracy: 0.7671 - val_loss: 0.0681 - val_accuracy: 0.7537 - lr: 1.0000e-07\n",
            "Epoch 41/90\n",
            "592/593 [============================>.] - ETA: 0s - loss: 0.0660 - accuracy: 0.7671\n",
            "Epoch 41: val_loss did not improve from 0.06803\n",
            "593/593 [==============================] - 40s 68ms/step - loss: 0.0660 - accuracy: 0.7671 - val_loss: 0.0680 - val_accuracy: 0.7537 - lr: 1.0000e-07\n",
            "Epoch 42/90\n",
            "593/593 [==============================] - ETA: 0s - loss: 0.0653 - accuracy: 0.7703\n",
            "Epoch 42: val_loss did not improve from 0.06803\n",
            "593/593 [==============================] - 40s 68ms/step - loss: 0.0653 - accuracy: 0.7703 - val_loss: 0.0681 - val_accuracy: 0.7528 - lr: 1.0000e-07\n",
            "Epoch 43/90\n",
            "593/593 [==============================] - ETA: 0s - loss: 0.0655 - accuracy: 0.7678\n",
            "Epoch 43: val_loss improved from 0.06803 to 0.06798, saving model to /content/drive/My Drive/Emotion_Detection/GENDER_AGE/age_model_Xception.43.hdf5\n",
            "593/593 [==============================] - 42s 70ms/step - loss: 0.0655 - accuracy: 0.7678 - val_loss: 0.0680 - val_accuracy: 0.7539 - lr: 1.0000e-07\n",
            "Epoch 44/90\n",
            "593/593 [==============================] - ETA: 0s - loss: 0.0656 - accuracy: 0.7701\n",
            "Epoch 44: val_loss did not improve from 0.06798\n",
            "593/593 [==============================] - 40s 68ms/step - loss: 0.0656 - accuracy: 0.7701 - val_loss: 0.0680 - val_accuracy: 0.7539 - lr: 1.0000e-07\n",
            "Epoch 45/90\n",
            "593/593 [==============================] - ETA: 0s - loss: 0.0650 - accuracy: 0.7719\n",
            "Epoch 45: val_loss did not improve from 0.06798\n",
            "593/593 [==============================] - 40s 67ms/step - loss: 0.0650 - accuracy: 0.7719 - val_loss: 0.0680 - val_accuracy: 0.7537 - lr: 1.0000e-07\n",
            "Epoch 46/90\n",
            "593/593 [==============================] - ETA: 0s - loss: 0.0654 - accuracy: 0.7702\n",
            "Epoch 46: val_loss did not improve from 0.06798\n",
            "593/593 [==============================] - 40s 67ms/step - loss: 0.0654 - accuracy: 0.7702 - val_loss: 0.0681 - val_accuracy: 0.7541 - lr: 1.0000e-07\n",
            "Epoch 47/90\n",
            "593/593 [==============================] - ETA: 0s - loss: 0.0655 - accuracy: 0.7691\n",
            "Epoch 47: val_loss did not improve from 0.06798\n",
            "\n",
            "Epoch 47: ReduceLROnPlateau reducing learning rate to 1.000000082740371e-08.\n",
            "593/593 [==============================] - 40s 67ms/step - loss: 0.0655 - accuracy: 0.7691 - val_loss: 0.0680 - val_accuracy: 0.7541 - lr: 1.0000e-07\n",
            "Epoch 48/90\n",
            "593/593 [==============================] - ETA: 0s - loss: 0.0656 - accuracy: 0.7672\n",
            "Epoch 48: val_loss did not improve from 0.06798\n",
            "593/593 [==============================] - 40s 68ms/step - loss: 0.0656 - accuracy: 0.7672 - val_loss: 0.0681 - val_accuracy: 0.7543 - lr: 1.0000e-08\n",
            "Epoch 49/90\n",
            "593/593 [==============================] - ETA: 0s - loss: 0.0655 - accuracy: 0.7685\n",
            "Epoch 49: val_loss did not improve from 0.06798\n",
            "593/593 [==============================] - 40s 68ms/step - loss: 0.0655 - accuracy: 0.7685 - val_loss: 0.0680 - val_accuracy: 0.7537 - lr: 1.0000e-08\n",
            "Epoch 50/90\n",
            "593/593 [==============================] - ETA: 0s - loss: 0.0656 - accuracy: 0.7728\n",
            "Epoch 50: val_loss did not improve from 0.06798\n",
            "593/593 [==============================] - 40s 67ms/step - loss: 0.0656 - accuracy: 0.7728 - val_loss: 0.0680 - val_accuracy: 0.7531 - lr: 1.0000e-08\n",
            "Epoch 51/90\n",
            "592/593 [============================>.] - ETA: 0s - loss: 0.0653 - accuracy: 0.7710\n",
            "Epoch 51: val_loss did not improve from 0.06798\n",
            "\n",
            "Epoch 51: ReduceLROnPlateau reducing learning rate to 1.000000082740371e-09.\n",
            "593/593 [==============================] - 40s 67ms/step - loss: 0.0653 - accuracy: 0.7711 - val_loss: 0.0681 - val_accuracy: 0.7526 - lr: 1.0000e-08\n",
            "Epoch 52/90\n",
            "593/593 [==============================] - ETA: 0s - loss: 0.0658 - accuracy: 0.7678\n",
            "Epoch 52: val_loss did not improve from 0.06798\n",
            "593/593 [==============================] - 40s 67ms/step - loss: 0.0658 - accuracy: 0.7678 - val_loss: 0.0681 - val_accuracy: 0.7539 - lr: 1.0000e-09\n",
            "Epoch 53/90\n",
            "593/593 [==============================] - ETA: 0s - loss: 0.0651 - accuracy: 0.7710\n",
            "Epoch 53: val_loss did not improve from 0.06798\n",
            "593/593 [==============================] - 40s 68ms/step - loss: 0.0651 - accuracy: 0.7710 - val_loss: 0.0680 - val_accuracy: 0.7533 - lr: 1.0000e-09\n",
            "Epoch 54/90\n",
            "593/593 [==============================] - ETA: 0s - loss: 0.0651 - accuracy: 0.7721\n",
            "Epoch 54: val_loss did not improve from 0.06798\n",
            "593/593 [==============================] - 40s 68ms/step - loss: 0.0651 - accuracy: 0.7721 - val_loss: 0.0680 - val_accuracy: 0.7537 - lr: 1.0000e-09\n",
            "Epoch 55/90\n",
            "593/593 [==============================] - ETA: 0s - loss: 0.0656 - accuracy: 0.7690\n",
            "Epoch 55: val_loss did not improve from 0.06798\n",
            "\n",
            "Epoch 55: ReduceLROnPlateau reducing learning rate to 1.000000082740371e-10.\n",
            "593/593 [==============================] - 41s 69ms/step - loss: 0.0656 - accuracy: 0.7690 - val_loss: 0.0680 - val_accuracy: 0.7539 - lr: 1.0000e-09\n",
            "Epoch 56/90\n",
            "593/593 [==============================] - ETA: 0s - loss: 0.0654 - accuracy: 0.7701\n",
            "Epoch 56: val_loss did not improve from 0.06798\n",
            "593/593 [==============================] - 40s 68ms/step - loss: 0.0654 - accuracy: 0.7701 - val_loss: 0.0681 - val_accuracy: 0.7531 - lr: 1.0000e-10\n",
            "Epoch 57/90\n",
            "592/593 [============================>.] - ETA: 0s - loss: 0.0651 - accuracy: 0.7706\n",
            "Epoch 57: val_loss did not improve from 0.06798\n",
            "593/593 [==============================] - 40s 68ms/step - loss: 0.0652 - accuracy: 0.7704 - val_loss: 0.0681 - val_accuracy: 0.7541 - lr: 1.0000e-10\n",
            "Epoch 58/90\n",
            "593/593 [==============================] - ETA: 0s - loss: 0.0650 - accuracy: 0.7727\n",
            "Epoch 58: val_loss did not improve from 0.06798\n",
            "593/593 [==============================] - 40s 68ms/step - loss: 0.0650 - accuracy: 0.7727 - val_loss: 0.0681 - val_accuracy: 0.7539 - lr: 1.0000e-10\n",
            "Epoch 59/90\n",
            "593/593 [==============================] - ETA: 0s - loss: 0.0654 - accuracy: 0.7708\n",
            "Epoch 59: val_loss did not improve from 0.06798\n",
            "\n",
            "Epoch 59: ReduceLROnPlateau reducing learning rate to 1.000000082740371e-11.\n",
            "593/593 [==============================] - 40s 68ms/step - loss: 0.0654 - accuracy: 0.7708 - val_loss: 0.0681 - val_accuracy: 0.7533 - lr: 1.0000e-10\n"
          ]
        }
      ],
      "source": [
        "# run model for gender\n",
        "age_model.compile(loss='mean_squared_error', optimizer= tensorflow.optimizers.Adam(lr=0.001), metrics=[\"accuracy\"])\n",
        "\n",
        "# callbacks\n",
        "log_file_path = base_path + 'age_training.log'\n",
        "csv_logger = CSVLogger(log_file_path, append=False)\n",
        "early_stop = EarlyStopping('val_loss', patience=patience)\n",
        "reduce_lr = ReduceLROnPlateau('val_loss', factor=0.1, patience=int(patience/4), verbose=1)\n",
        "trained_models_path = base_path + 'age_model_Xception'\n",
        "model_names = trained_models_path + '.{epoch:02d}.hdf5'\n",
        "model_checkpoint = ModelCheckpoint(model_names, 'val_loss', verbose=1,save_best_only=True)\n",
        "callbacks = [model_checkpoint, csv_logger, early_stop, reduce_lr]\n",
        "\n",
        "age = age_model.fit(train1, verbose=1, callbacks=callbacks, validation_data=test1,  epochs=90,\n",
        "                batch_size=batch_size )"
      ]
    },
    {
      "cell_type": "code",
      "execution_count": null,
      "metadata": {
        "id": "cvuXje5k90xW",
        "colab": {
          "base_uri": "https://localhost:8080/",
          "height": 563
        },
        "outputId": "56f31744-a290-4d19-f11d-ab9de3933fa3"
      },
      "outputs": [
        {
          "output_type": "display_data",
          "data": {
            "text/plain": [
              "<Figure size 432x288 with 1 Axes>"
            ],
            "image/png": "[encoded data removed]"
          },
          "metadata": {
            "needs_background": "light"
          }
        },
        {
          "output_type": "display_data",
          "data": {
            "text/plain": [
              "<Figure size 432x288 with 0 Axes>"
            ]
          },
          "metadata": {}
        },
        {
          "output_type": "display_data",
          "data": {
            "text/plain": [
              "<Figure size 432x288 with 1 Axes>"
            ],
            "image/png": "[encoded data removed]"
          },
          "metadata": {
            "needs_background": "light"
          }
        },
        {
          "output_type": "display_data",
          "data": {
            "text/plain": [
              "<Figure size 432x288 with 0 Axes>"
            ]
          },
          "metadata": {}
        }
      ],
      "source": [
        "#Train and Validation Loss\n",
        "plt.plot(age.history[\"loss\"],label=\"train loss\")\n",
        "plt.plot(age.history[\"val_loss\"],label=\"val loss\")\n",
        "plt.legend()\n",
        "fig1 = plt.gcf() # I create figure because ı want to save\n",
        "plt.show()\n",
        "plt.draw()\n",
        "#fig1.savefig('ageclfloss.png')\n",
        "\n",
        "plt.figure()\n",
        "\n",
        "##Train and Validation Accuracy\n",
        "plt.plot(age.history[\"accuracy\"],label=\"train acc\")\n",
        "plt.plot(age.history[\"val_accuracy\"],label=\"val acc\")\n",
        "plt.xlabel(\"Epochs\")\n",
        "plt.ylabel(\"Accuracy\")\n",
        "plt.legend()\n",
        "\n",
        "fig2 = plt.gcf()\n",
        "plt.show()\n",
        "plt.draw()\n",
        "#fig2.savefig('ageclfacc.png')"
      ]
    },
    {
      "cell_type": "code",
      "execution_count": null,
      "metadata": {
        "id": "0Aq-85zo900x",
        "colab": {
          "base_uri": "https://localhost:8080/"
        },
        "outputId": "86be7595-8e36-4d19-a605-275399f3fcb2"
      },
      "outputs": [
        {
          "output_type": "stream",
          "name": "stdout",
          "text": [
            "Samples in Training: (18966, 48, 48, 3)\n",
            "Samples in Testing: (4742, 48, 48, 3)\n",
            "y_train shape:  (18966, 2)\n",
            "y_test shape:  (4742, 2)\n",
            "input shape:  (48, 48, 3)\n"
          ]
        }
      ],
      "source": [
        "## Train-Test Split for gender\n",
        "x_train,x_test,y_train,y_test=train_test_split(x_data,gender_classes,test_size=0.2,\n",
        "                                               shuffle=True,random_state=42)\n",
        "\n",
        "#one hot encoding\n",
        "y_train= to_categorical(y_train,num_classes=2)\n",
        "y_test= to_categorical(y_test,num_classes=2) \n",
        "x_train = x_train / 255.\n",
        "x_test = x_test / 255.\n",
        "\n",
        "print(\"Samples in Training:\",x_train.shape)\n",
        "print(\"Samples in Testing:\",x_test.shape)\n",
        "\n",
        "\n",
        "print(\"y_train shape: \",y_train.shape)\n",
        "print(\"y_test shape: \",y_test.shape)\n",
        "\n",
        "input_shape= x_train.shape[1:] #we don't take the number of samples\n",
        "print(\"input shape: \",input_shape)"
      ]
    },
    {
      "cell_type": "code",
      "execution_count": null,
      "metadata": {
        "id": "XzmZaT1reRrc"
      },
      "outputs": [],
      "source": [
        "def exit_gender_flow(x) :\n",
        "\n",
        "    previous_block_activation = x\n",
        "\n",
        "    x = Activation('relu')(x)\n",
        "    x = SeparableConv2D(312, 5, padding='same')(x)\n",
        "    x = BatchNormalization()(x)\n",
        "    x = Dropout(0.3)(x)\n",
        "\n",
        "    x = Activation('relu')(x)\n",
        "    x = SeparableConv2D(624, 5, padding='same')(x) \n",
        "    x = BatchNormalization()(x)\n",
        "    x = Dropout(0.3)(x)\n",
        "\n",
        "    x = MaxPooling2D(3, strides=2, padding='same')(x)\n",
        "\n",
        "    residual = Conv2D(624, 1, strides=2, padding='same')(previous_block_activation)\n",
        "    x = tensorflow.keras.layers.Add()([x, residual])\n",
        "\n",
        "\n",
        "    x = SeparableConv2D(624, 5, padding='same')(x)\n",
        "    x = Activation('relu')(x)\n",
        "    x = BatchNormalization()(x)\n",
        "    x = Dropout(0.3)(x)\n",
        "\n",
        "    x = SeparableConv2D(312, 3, padding='same')(x)\n",
        "    x = Activation('relu')(x)\n",
        "    x = BatchNormalization()(x)\n",
        "\n",
        "    x = GlobalAveragePooling2D()(x)\n",
        "    x = Dense(2, activation='sigmoid')(x)\n",
        "\n",
        "    return x\n"
      ]
    },
    {
      "cell_type": "code",
      "execution_count": null,
      "metadata": {
        "id": "DvjJ6JqB904I"
      },
      "outputs": [],
      "source": [
        "img_input = Input(shape=(48, 48, 3))\n",
        "output = exit_gender_flow(middle_flow(entry_flow(img_input)))"
      ]
    },
    {
      "cell_type": "code",
      "execution_count": null,
      "metadata": {
        "id": "BJIR9wKZe8N-"
      },
      "outputs": [],
      "source": [
        "gender_model = Model(img_input, output)"
      ]
    },
    {
      "cell_type": "code",
      "execution_count": null,
      "metadata": {
        "id": "LBdXQxNLDVK7"
      },
      "outputs": [],
      "source": [
        "datagen = ImageDataGenerator(\n",
        "      width_shift_range = 0.1, height_shift_range = 0.1, horizontal_flip = True)     \n",
        "test_datagen = ImageDataGenerator()\n",
        "\n",
        "train2 = datagen.flow(x_train, y_train, batch_size=batch_size)\n",
        "test2 = test_datagen.flow(x_test, y_test, batch_size=batch_size)\n",
        "gender_model.compile()"
      ]
    },
    {
      "cell_type": "code",
      "execution_count": null,
      "metadata": {
        "id": "IHUlEOjUMcTv",
        "colab": {
          "base_uri": "https://localhost:8080/"
        },
        "outputId": "85293d72-fe69-4a58-f84f-3db2d3df7325"
      },
      "outputs": [
        {
          "output_type": "stream",
          "name": "stdout",
          "text": [
            "Epoch 1/100\n"
          ]
        },
        {
          "output_type": "stream",
          "name": "stderr",
          "text": [
            "/usr/local/lib/python3.7/dist-packages/keras/optimizer_v2/adam.py:105: UserWarning: The `lr` argument is deprecated, use `learning_rate` instead.\n",
            "  super(Adam, self).__init__(name, **kwargs)\n"
          ]
        },
        {
          "output_type": "stream",
          "name": "stdout",
          "text": [
            "592/593 [============================>.] - ETA: 0s - loss: 0.5072 - accuracy: 0.7480\n",
            "Epoch 1: val_loss improved from inf to 0.58226, saving model to /content/drive/My Drive/Emotion_Detection/GENDER_AGE/gender_model_Xception.01.hdf5\n",
            "593/593 [==============================] - 55s 72ms/step - loss: 0.5070 - accuracy: 0.7481 - val_loss: 0.5823 - val_accuracy: 0.6742 - lr: 0.0010\n",
            "Epoch 2/100\n",
            "593/593 [==============================] - ETA: 0s - loss: 0.3781 - accuracy: 0.8304\n",
            "Epoch 2: val_loss improved from 0.58226 to 0.34506, saving model to /content/drive/My Drive/Emotion_Detection/GENDER_AGE/gender_model_Xception.02.hdf5\n",
            "593/593 [==============================] - 41s 70ms/step - loss: 0.3781 - accuracy: 0.8304 - val_loss: 0.3451 - val_accuracy: 0.8435 - lr: 0.0010\n",
            "Epoch 3/100\n",
            "593/593 [==============================] - ETA: 0s - loss: 0.3499 - accuracy: 0.8445\n",
            "Epoch 3: val_loss did not improve from 0.34506\n",
            "593/593 [==============================] - 40s 67ms/step - loss: 0.3499 - accuracy: 0.8445 - val_loss: 0.3538 - val_accuracy: 0.8402 - lr: 0.0010\n",
            "Epoch 4/100\n",
            "593/593 [==============================] - ETA: 0s - loss: 0.3272 - accuracy: 0.8554\n",
            "Epoch 4: val_loss did not improve from 0.34506\n",
            "593/593 [==============================] - 40s 67ms/step - loss: 0.3272 - accuracy: 0.8554 - val_loss: 0.3872 - val_accuracy: 0.8113 - lr: 0.0010\n",
            "Epoch 5/100\n",
            "592/593 [============================>.] - ETA: 0s - loss: 0.3169 - accuracy: 0.8609\n",
            "Epoch 5: val_loss improved from 0.34506 to 0.31479, saving model to /content/drive/My Drive/Emotion_Detection/GENDER_AGE/gender_model_Xception.05.hdf5\n",
            "593/593 [==============================] - 41s 69ms/step - loss: 0.3167 - accuracy: 0.8609 - val_loss: 0.3148 - val_accuracy: 0.8587 - lr: 0.0010\n",
            "Epoch 6/100\n",
            "593/593 [==============================] - ETA: 0s - loss: 0.3081 - accuracy: 0.8633\n",
            "Epoch 6: val_loss did not improve from 0.31479\n",
            "593/593 [==============================] - 40s 67ms/step - loss: 0.3081 - accuracy: 0.8633 - val_loss: 0.3203 - val_accuracy: 0.8598 - lr: 0.0010\n",
            "Epoch 7/100\n",
            "593/593 [==============================] - ETA: 0s - loss: 0.2981 - accuracy: 0.8684\n",
            "Epoch 7: val_loss improved from 0.31479 to 0.29018, saving model to /content/drive/My Drive/Emotion_Detection/GENDER_AGE/gender_model_Xception.07.hdf5\n",
            "593/593 [==============================] - 41s 69ms/step - loss: 0.2981 - accuracy: 0.8684 - val_loss: 0.2902 - val_accuracy: 0.8699 - lr: 0.0010\n",
            "Epoch 8/100\n",
            "593/593 [==============================] - ETA: 0s - loss: 0.2908 - accuracy: 0.8711\n",
            "Epoch 8: val_loss improved from 0.29018 to 0.28618, saving model to /content/drive/My Drive/Emotion_Detection/GENDER_AGE/gender_model_Xception.08.hdf5\n",
            "593/593 [==============================] - 42s 71ms/step - loss: 0.2908 - accuracy: 0.8711 - val_loss: 0.2862 - val_accuracy: 0.8720 - lr: 0.0010\n",
            "Epoch 9/100\n",
            "592/593 [============================>.] - ETA: 0s - loss: 0.2823 - accuracy: 0.8764\n",
            "Epoch 9: val_loss improved from 0.28618 to 0.28618, saving model to /content/drive/My Drive/Emotion_Detection/GENDER_AGE/gender_model_Xception.09.hdf5\n",
            "593/593 [==============================] - 41s 70ms/step - loss: 0.2822 - accuracy: 0.8764 - val_loss: 0.2862 - val_accuracy: 0.8737 - lr: 0.0010\n",
            "Epoch 10/100\n",
            "593/593 [==============================] - ETA: 0s - loss: 0.2769 - accuracy: 0.8799\n",
            "Epoch 10: val_loss improved from 0.28618 to 0.26617, saving model to /content/drive/My Drive/Emotion_Detection/GENDER_AGE/gender_model_Xception.10.hdf5\n",
            "593/593 [==============================] - 42s 70ms/step - loss: 0.2769 - accuracy: 0.8799 - val_loss: 0.2662 - val_accuracy: 0.8800 - lr: 0.0010\n",
            "Epoch 11/100\n",
            "593/593 [==============================] - ETA: 0s - loss: 0.2693 - accuracy: 0.8841\n",
            "Epoch 11: val_loss did not improve from 0.26617\n",
            "593/593 [==============================] - 40s 68ms/step - loss: 0.2693 - accuracy: 0.8841 - val_loss: 0.2744 - val_accuracy: 0.8855 - lr: 0.0010\n",
            "Epoch 12/100\n",
            "593/593 [==============================] - ETA: 0s - loss: 0.2635 - accuracy: 0.8875\n",
            "Epoch 12: val_loss improved from 0.26617 to 0.25894, saving model to /content/drive/My Drive/Emotion_Detection/GENDER_AGE/gender_model_Xception.12.hdf5\n",
            "593/593 [==============================] - 41s 70ms/step - loss: 0.2635 - accuracy: 0.8875 - val_loss: 0.2589 - val_accuracy: 0.8884 - lr: 0.0010\n",
            "Epoch 13/100\n",
            "593/593 [==============================] - ETA: 0s - loss: 0.2593 - accuracy: 0.8895\n",
            "Epoch 13: val_loss did not improve from 0.25894\n",
            "593/593 [==============================] - 40s 67ms/step - loss: 0.2593 - accuracy: 0.8895 - val_loss: 0.2807 - val_accuracy: 0.8747 - lr: 0.0010\n",
            "Epoch 14/100\n",
            "592/593 [============================>.] - ETA: 0s - loss: 0.2579 - accuracy: 0.8873\n",
            "Epoch 14: val_loss improved from 0.25894 to 0.24610, saving model to /content/drive/My Drive/Emotion_Detection/GENDER_AGE/gender_model_Xception.14.hdf5\n",
            "593/593 [==============================] - 41s 70ms/step - loss: 0.2579 - accuracy: 0.8874 - val_loss: 0.2461 - val_accuracy: 0.8901 - lr: 0.0010\n",
            "Epoch 15/100\n",
            "593/593 [==============================] - ETA: 0s - loss: 0.2489 - accuracy: 0.8913\n",
            "Epoch 15: val_loss did not improve from 0.24610\n",
            "593/593 [==============================] - 40s 67ms/step - loss: 0.2489 - accuracy: 0.8913 - val_loss: 0.2639 - val_accuracy: 0.8798 - lr: 0.0010\n",
            "Epoch 16/100\n",
            "593/593 [==============================] - ETA: 0s - loss: 0.2487 - accuracy: 0.8937\n",
            "Epoch 16: val_loss did not improve from 0.24610\n",
            "593/593 [==============================] - 40s 67ms/step - loss: 0.2487 - accuracy: 0.8937 - val_loss: 0.2488 - val_accuracy: 0.8914 - lr: 0.0010\n",
            "Epoch 17/100\n",
            "592/593 [============================>.] - ETA: 0s - loss: 0.2410 - accuracy: 0.8956\n",
            "Epoch 17: val_loss did not improve from 0.24610\n",
            "593/593 [==============================] - 40s 67ms/step - loss: 0.2409 - accuracy: 0.8958 - val_loss: 0.2525 - val_accuracy: 0.8849 - lr: 0.0010\n",
            "Epoch 18/100\n",
            "593/593 [==============================] - ETA: 0s - loss: 0.2406 - accuracy: 0.8968\n",
            "Epoch 18: val_loss did not improve from 0.24610\n",
            "\n",
            "Epoch 18: ReduceLROnPlateau reducing learning rate to 0.00010000000474974513.\n",
            "593/593 [==============================] - 40s 67ms/step - loss: 0.2406 - accuracy: 0.8968 - val_loss: 0.2546 - val_accuracy: 0.8910 - lr: 0.0010\n",
            "Epoch 19/100\n",
            "593/593 [==============================] - ETA: 0s - loss: 0.2220 - accuracy: 0.9041\n",
            "Epoch 19: val_loss improved from 0.24610 to 0.22810, saving model to /content/drive/My Drive/Emotion_Detection/GENDER_AGE/gender_model_Xception.19.hdf5\n",
            "593/593 [==============================] - 41s 70ms/step - loss: 0.2220 - accuracy: 0.9041 - val_loss: 0.2281 - val_accuracy: 0.9062 - lr: 1.0000e-04\n",
            "Epoch 20/100\n",
            "593/593 [==============================] - ETA: 0s - loss: 0.2110 - accuracy: 0.9113\n",
            "Epoch 20: val_loss improved from 0.22810 to 0.22779, saving model to /content/drive/My Drive/Emotion_Detection/GENDER_AGE/gender_model_Xception.20.hdf5\n",
            "593/593 [==============================] - 42s 70ms/step - loss: 0.2110 - accuracy: 0.9113 - val_loss: 0.2278 - val_accuracy: 0.9028 - lr: 1.0000e-04\n",
            "Epoch 21/100\n",
            "592/593 [============================>.] - ETA: 0s - loss: 0.2071 - accuracy: 0.9127\n",
            "Epoch 21: val_loss improved from 0.22779 to 0.22473, saving model to /content/drive/My Drive/Emotion_Detection/GENDER_AGE/gender_model_Xception.21.hdf5\n",
            "593/593 [==============================] - 42s 71ms/step - loss: 0.2073 - accuracy: 0.9128 - val_loss: 0.2247 - val_accuracy: 0.9057 - lr: 1.0000e-04\n",
            "Epoch 22/100\n",
            "593/593 [==============================] - ETA: 0s - loss: 0.2058 - accuracy: 0.9144\n",
            "Epoch 22: val_loss did not improve from 0.22473\n",
            "593/593 [==============================] - 40s 67ms/step - loss: 0.2058 - accuracy: 0.9144 - val_loss: 0.2359 - val_accuracy: 0.8971 - lr: 1.0000e-04\n",
            "Epoch 23/100\n",
            "593/593 [==============================] - ETA: 0s - loss: 0.2043 - accuracy: 0.9155\n",
            "Epoch 23: val_loss improved from 0.22473 to 0.22391, saving model to /content/drive/My Drive/Emotion_Detection/GENDER_AGE/gender_model_Xception.23.hdf5\n",
            "593/593 [==============================] - 42s 70ms/step - loss: 0.2043 - accuracy: 0.9155 - val_loss: 0.2239 - val_accuracy: 0.9047 - lr: 1.0000e-04\n",
            "Epoch 24/100\n",
            "593/593 [==============================] - ETA: 0s - loss: 0.2030 - accuracy: 0.9162\n",
            "Epoch 24: val_loss did not improve from 0.22391\n",
            "593/593 [==============================] - 40s 68ms/step - loss: 0.2030 - accuracy: 0.9162 - val_loss: 0.2255 - val_accuracy: 0.9053 - lr: 1.0000e-04\n",
            "Epoch 25/100\n",
            "592/593 [============================>.] - ETA: 0s - loss: 0.2006 - accuracy: 0.9176\n",
            "Epoch 25: val_loss did not improve from 0.22391\n",
            "593/593 [==============================] - 40s 67ms/step - loss: 0.2006 - accuracy: 0.9176 - val_loss: 0.2251 - val_accuracy: 0.9047 - lr: 1.0000e-04\n",
            "Epoch 26/100\n",
            "593/593 [==============================] - ETA: 0s - loss: 0.2010 - accuracy: 0.9181\n",
            "Epoch 26: val_loss improved from 0.22391 to 0.22212, saving model to /content/drive/My Drive/Emotion_Detection/GENDER_AGE/gender_model_Xception.26.hdf5\n",
            "593/593 [==============================] - 41s 70ms/step - loss: 0.2010 - accuracy: 0.9181 - val_loss: 0.2221 - val_accuracy: 0.9083 - lr: 1.0000e-04\n",
            "Epoch 27/100\n",
            "593/593 [==============================] - ETA: 0s - loss: 0.1950 - accuracy: 0.9166\n",
            "Epoch 27: val_loss improved from 0.22212 to 0.22107, saving model to /content/drive/My Drive/Emotion_Detection/GENDER_AGE/gender_model_Xception.27.hdf5\n",
            "593/593 [==============================] - 42s 71ms/step - loss: 0.1950 - accuracy: 0.9166 - val_loss: 0.2211 - val_accuracy: 0.9091 - lr: 1.0000e-04\n",
            "Epoch 28/100\n",
            "593/593 [==============================] - ETA: 0s - loss: 0.1955 - accuracy: 0.9193\n",
            "Epoch 28: val_loss did not improve from 0.22107\n",
            "593/593 [==============================] - 40s 68ms/step - loss: 0.1955 - accuracy: 0.9193 - val_loss: 0.2227 - val_accuracy: 0.9030 - lr: 1.0000e-04\n",
            "Epoch 29/100\n",
            "593/593 [==============================] - ETA: 0s - loss: 0.1947 - accuracy: 0.9192\n",
            "Epoch 29: val_loss did not improve from 0.22107\n",
            "593/593 [==============================] - 40s 67ms/step - loss: 0.1947 - accuracy: 0.9192 - val_loss: 0.2216 - val_accuracy: 0.9047 - lr: 1.0000e-04\n",
            "Epoch 30/100\n",
            "593/593 [==============================] - ETA: 0s - loss: 0.1916 - accuracy: 0.9212\n",
            "Epoch 30: val_loss improved from 0.22107 to 0.22034, saving model to /content/drive/My Drive/Emotion_Detection/GENDER_AGE/gender_model_Xception.30.hdf5\n",
            "593/593 [==============================] - 42s 70ms/step - loss: 0.1916 - accuracy: 0.9212 - val_loss: 0.2203 - val_accuracy: 0.9070 - lr: 1.0000e-04\n",
            "Epoch 31/100\n",
            "592/593 [============================>.] - ETA: 0s - loss: 0.1909 - accuracy: 0.9223\n",
            "Epoch 31: val_loss improved from 0.22034 to 0.21837, saving model to /content/drive/My Drive/Emotion_Detection/GENDER_AGE/gender_model_Xception.31.hdf5\n",
            "593/593 [==============================] - 42s 71ms/step - loss: 0.1909 - accuracy: 0.9222 - val_loss: 0.2184 - val_accuracy: 0.9072 - lr: 1.0000e-04\n",
            "Epoch 32/100\n",
            "593/593 [==============================] - ETA: 0s - loss: 0.1911 - accuracy: 0.9214\n",
            "Epoch 32: val_loss did not improve from 0.21837\n",
            "593/593 [==============================] - 40s 68ms/step - loss: 0.1911 - accuracy: 0.9214 - val_loss: 0.2201 - val_accuracy: 0.9074 - lr: 1.0000e-04\n",
            "Epoch 33/100\n",
            "592/593 [============================>.] - ETA: 0s - loss: 0.1920 - accuracy: 0.9201\n",
            "Epoch 33: val_loss did not improve from 0.21837\n",
            "593/593 [==============================] - 40s 67ms/step - loss: 0.1919 - accuracy: 0.9201 - val_loss: 0.2198 - val_accuracy: 0.9081 - lr: 1.0000e-04\n",
            "Epoch 34/100\n",
            "593/593 [==============================] - ETA: 0s - loss: 0.1869 - accuracy: 0.9237\n",
            "Epoch 34: val_loss did not improve from 0.21837\n",
            "593/593 [==============================] - 40s 67ms/step - loss: 0.1869 - accuracy: 0.9237 - val_loss: 0.2223 - val_accuracy: 0.9074 - lr: 1.0000e-04\n",
            "Epoch 35/100\n",
            "593/593 [==============================] - ETA: 0s - loss: 0.1931 - accuracy: 0.9204\n",
            "Epoch 35: val_loss did not improve from 0.21837\n",
            "\n",
            "Epoch 35: ReduceLROnPlateau reducing learning rate to 1.0000000474974514e-05.\n",
            "593/593 [==============================] - 40s 67ms/step - loss: 0.1931 - accuracy: 0.9204 - val_loss: 0.2202 - val_accuracy: 0.9100 - lr: 1.0000e-04\n",
            "Epoch 36/100\n",
            "593/593 [==============================] - ETA: 0s - loss: 0.1889 - accuracy: 0.9235\n",
            "Epoch 36: val_loss did not improve from 0.21837\n",
            "593/593 [==============================] - 40s 68ms/step - loss: 0.1889 - accuracy: 0.9235 - val_loss: 0.2184 - val_accuracy: 0.9104 - lr: 1.0000e-05\n",
            "Epoch 37/100\n",
            "592/593 [============================>.] - ETA: 0s - loss: 0.1872 - accuracy: 0.9234\n",
            "Epoch 37: val_loss improved from 0.21837 to 0.21805, saving model to /content/drive/My Drive/Emotion_Detection/GENDER_AGE/gender_model_Xception.37.hdf5\n",
            "593/593 [==============================] - 42s 70ms/step - loss: 0.1871 - accuracy: 0.9235 - val_loss: 0.2181 - val_accuracy: 0.9085 - lr: 1.0000e-05\n",
            "Epoch 38/100\n",
            "593/593 [==============================] - ETA: 0s - loss: 0.1869 - accuracy: 0.9226\n",
            "Epoch 38: val_loss did not improve from 0.21805\n",
            "593/593 [==============================] - 40s 68ms/step - loss: 0.1869 - accuracy: 0.9226 - val_loss: 0.2187 - val_accuracy: 0.9091 - lr: 1.0000e-05\n",
            "Epoch 39/100\n",
            "593/593 [==============================] - ETA: 0s - loss: 0.1838 - accuracy: 0.9232\n",
            "Epoch 39: val_loss improved from 0.21805 to 0.21776, saving model to /content/drive/My Drive/Emotion_Detection/GENDER_AGE/gender_model_Xception.39.hdf5\n",
            "593/593 [==============================] - 42s 70ms/step - loss: 0.1838 - accuracy: 0.9232 - val_loss: 0.2178 - val_accuracy: 0.9102 - lr: 1.0000e-05\n",
            "Epoch 40/100\n",
            "593/593 [==============================] - ETA: 0s - loss: 0.1831 - accuracy: 0.9229\n",
            "Epoch 40: val_loss improved from 0.21776 to 0.21757, saving model to /content/drive/My Drive/Emotion_Detection/GENDER_AGE/gender_model_Xception.40.hdf5\n",
            "593/593 [==============================] - 42s 71ms/step - loss: 0.1831 - accuracy: 0.9229 - val_loss: 0.2176 - val_accuracy: 0.9100 - lr: 1.0000e-05\n",
            "Epoch 41/100\n",
            "593/593 [==============================] - ETA: 0s - loss: 0.1861 - accuracy: 0.9260\n",
            "Epoch 41: val_loss did not improve from 0.21757\n",
            "593/593 [==============================] - 41s 68ms/step - loss: 0.1861 - accuracy: 0.9260 - val_loss: 0.2183 - val_accuracy: 0.9095 - lr: 1.0000e-05\n",
            "Epoch 42/100\n",
            "593/593 [==============================] - ETA: 0s - loss: 0.1862 - accuracy: 0.9249\n",
            "Epoch 42: val_loss did not improve from 0.21757\n",
            "593/593 [==============================] - 40s 68ms/step - loss: 0.1862 - accuracy: 0.9249 - val_loss: 0.2176 - val_accuracy: 0.9100 - lr: 1.0000e-05\n",
            "Epoch 43/100\n",
            "593/593 [==============================] - ETA: 0s - loss: 0.1835 - accuracy: 0.9249\n",
            "Epoch 43: val_loss did not improve from 0.21757\n",
            "593/593 [==============================] - 40s 68ms/step - loss: 0.1835 - accuracy: 0.9249 - val_loss: 0.2179 - val_accuracy: 0.9085 - lr: 1.0000e-05\n",
            "Epoch 44/100\n",
            "593/593 [==============================] - ETA: 0s - loss: 0.1846 - accuracy: 0.9249\n",
            "Epoch 44: val_loss did not improve from 0.21757\n",
            "\n",
            "Epoch 44: ReduceLROnPlateau reducing learning rate to 1.0000000656873453e-06.\n",
            "593/593 [==============================] - 40s 68ms/step - loss: 0.1846 - accuracy: 0.9249 - val_loss: 0.2176 - val_accuracy: 0.9091 - lr: 1.0000e-05\n",
            "Epoch 45/100\n",
            "593/593 [==============================] - ETA: 0s - loss: 0.1832 - accuracy: 0.9241\n",
            "Epoch 45: val_loss did not improve from 0.21757\n",
            "593/593 [==============================] - 40s 68ms/step - loss: 0.1832 - accuracy: 0.9241 - val_loss: 0.2178 - val_accuracy: 0.9089 - lr: 1.0000e-06\n",
            "Epoch 46/100\n",
            "593/593 [==============================] - ETA: 0s - loss: 0.1824 - accuracy: 0.9243\n",
            "Epoch 46: val_loss did not improve from 0.21757\n",
            "593/593 [==============================] - 40s 68ms/step - loss: 0.1824 - accuracy: 0.9243 - val_loss: 0.2177 - val_accuracy: 0.9093 - lr: 1.0000e-06\n",
            "Epoch 47/100\n",
            "593/593 [==============================] - ETA: 0s - loss: 0.1839 - accuracy: 0.9259\n",
            "Epoch 47: val_loss did not improve from 0.21757\n",
            "593/593 [==============================] - 40s 67ms/step - loss: 0.1839 - accuracy: 0.9259 - val_loss: 0.2177 - val_accuracy: 0.9087 - lr: 1.0000e-06\n",
            "Epoch 48/100\n",
            "592/593 [============================>.] - ETA: 0s - loss: 0.1827 - accuracy: 0.9260\n",
            "Epoch 48: val_loss did not improve from 0.21757\n",
            "\n",
            "Epoch 48: ReduceLROnPlateau reducing learning rate to 1.0000001111620805e-07.\n",
            "593/593 [==============================] - 40s 67ms/step - loss: 0.1826 - accuracy: 0.9260 - val_loss: 0.2178 - val_accuracy: 0.9089 - lr: 1.0000e-06\n",
            "Epoch 49/100\n",
            "593/593 [==============================] - ETA: 0s - loss: 0.1829 - accuracy: 0.9259\n",
            "Epoch 49: val_loss improved from 0.21757 to 0.21754, saving model to /content/drive/My Drive/Emotion_Detection/GENDER_AGE/gender_model_Xception.49.hdf5\n",
            "593/593 [==============================] - 41s 70ms/step - loss: 0.1829 - accuracy: 0.9259 - val_loss: 0.2175 - val_accuracy: 0.9100 - lr: 1.0000e-07\n",
            "Epoch 50/100\n",
            "593/593 [==============================] - ETA: 0s - loss: 0.1827 - accuracy: 0.9261\n",
            "Epoch 50: val_loss did not improve from 0.21754\n",
            "593/593 [==============================] - 40s 68ms/step - loss: 0.1827 - accuracy: 0.9261 - val_loss: 0.2177 - val_accuracy: 0.9093 - lr: 1.0000e-07\n",
            "Epoch 51/100\n",
            "593/593 [==============================] - ETA: 0s - loss: 0.1821 - accuracy: 0.9266\n",
            "Epoch 51: val_loss did not improve from 0.21754\n",
            "593/593 [==============================] - 40s 67ms/step - loss: 0.1821 - accuracy: 0.9266 - val_loss: 0.2178 - val_accuracy: 0.9091 - lr: 1.0000e-07\n",
            "Epoch 52/100\n",
            "593/593 [==============================] - ETA: 0s - loss: 0.1873 - accuracy: 0.9243\n",
            "Epoch 52: val_loss did not improve from 0.21754\n",
            "\n",
            "Epoch 52: ReduceLROnPlateau reducing learning rate to 1.000000082740371e-08.\n",
            "593/593 [==============================] - 40s 67ms/step - loss: 0.1873 - accuracy: 0.9243 - val_loss: 0.2177 - val_accuracy: 0.9095 - lr: 1.0000e-07\n",
            "Epoch 53/100\n",
            "593/593 [==============================] - ETA: 0s - loss: 0.1860 - accuracy: 0.9250\n",
            "Epoch 53: val_loss did not improve from 0.21754\n",
            "593/593 [==============================] - 40s 67ms/step - loss: 0.1860 - accuracy: 0.9250 - val_loss: 0.2177 - val_accuracy: 0.9091 - lr: 1.0000e-08\n",
            "Epoch 54/100\n",
            "593/593 [==============================] - ETA: 0s - loss: 0.1858 - accuracy: 0.9266\n",
            "Epoch 54: val_loss did not improve from 0.21754\n",
            "593/593 [==============================] - 40s 67ms/step - loss: 0.1858 - accuracy: 0.9266 - val_loss: 0.2176 - val_accuracy: 0.9095 - lr: 1.0000e-08\n",
            "Epoch 55/100\n",
            "593/593 [==============================] - ETA: 0s - loss: 0.1861 - accuracy: 0.9226\n",
            "Epoch 55: val_loss did not improve from 0.21754\n",
            "593/593 [==============================] - 40s 67ms/step - loss: 0.1861 - accuracy: 0.9226 - val_loss: 0.2177 - val_accuracy: 0.9089 - lr: 1.0000e-08\n",
            "Epoch 56/100\n",
            "593/593 [==============================] - ETA: 0s - loss: 0.1837 - accuracy: 0.9275\n",
            "Epoch 56: val_loss did not improve from 0.21754\n",
            "\n",
            "Epoch 56: ReduceLROnPlateau reducing learning rate to 1.000000082740371e-09.\n",
            "593/593 [==============================] - 40s 67ms/step - loss: 0.1837 - accuracy: 0.9275 - val_loss: 0.2178 - val_accuracy: 0.9089 - lr: 1.0000e-08\n",
            "Epoch 57/100\n",
            "593/593 [==============================] - ETA: 0s - loss: 0.1852 - accuracy: 0.9231\n",
            "Epoch 57: val_loss did not improve from 0.21754\n",
            "593/593 [==============================] - 40s 67ms/step - loss: 0.1852 - accuracy: 0.9231 - val_loss: 0.2176 - val_accuracy: 0.9091 - lr: 1.0000e-09\n",
            "Epoch 58/100\n",
            "593/593 [==============================] - ETA: 0s - loss: 0.1838 - accuracy: 0.9251\n",
            "Epoch 58: val_loss did not improve from 0.21754\n",
            "593/593 [==============================] - 40s 67ms/step - loss: 0.1838 - accuracy: 0.9251 - val_loss: 0.2176 - val_accuracy: 0.9091 - lr: 1.0000e-09\n",
            "Epoch 59/100\n",
            "592/593 [============================>.] - ETA: 0s - loss: 0.1875 - accuracy: 0.9205\n",
            "Epoch 59: val_loss did not improve from 0.21754\n",
            "593/593 [==============================] - 40s 67ms/step - loss: 0.1874 - accuracy: 0.9205 - val_loss: 0.2175 - val_accuracy: 0.9093 - lr: 1.0000e-09\n",
            "Epoch 60/100\n",
            "593/593 [==============================] - ETA: 0s - loss: 0.1838 - accuracy: 0.9252\n",
            "Epoch 60: val_loss did not improve from 0.21754\n",
            "\n",
            "Epoch 60: ReduceLROnPlateau reducing learning rate to 1.000000082740371e-10.\n",
            "593/593 [==============================] - 40s 67ms/step - loss: 0.1838 - accuracy: 0.9252 - val_loss: 0.2178 - val_accuracy: 0.9095 - lr: 1.0000e-09\n",
            "Epoch 61/100\n",
            "593/593 [==============================] - ETA: 0s - loss: 0.1836 - accuracy: 0.9256\n",
            "Epoch 61: val_loss did not improve from 0.21754\n",
            "593/593 [==============================] - 40s 67ms/step - loss: 0.1836 - accuracy: 0.9256 - val_loss: 0.2176 - val_accuracy: 0.9087 - lr: 1.0000e-10\n",
            "Epoch 62/100\n",
            "593/593 [==============================] - ETA: 0s - loss: 0.1847 - accuracy: 0.9232\n",
            "Epoch 62: val_loss did not improve from 0.21754\n",
            "593/593 [==============================] - 40s 67ms/step - loss: 0.1847 - accuracy: 0.9232 - val_loss: 0.2176 - val_accuracy: 0.9091 - lr: 1.0000e-10\n",
            "Epoch 63/100\n",
            "593/593 [==============================] - ETA: 0s - loss: 0.1852 - accuracy: 0.9249\n",
            "Epoch 63: val_loss improved from 0.21754 to 0.21744, saving model to /content/drive/My Drive/Emotion_Detection/GENDER_AGE/gender_model_Xception.63.hdf5\n",
            "593/593 [==============================] - 42s 70ms/step - loss: 0.1852 - accuracy: 0.9249 - val_loss: 0.2174 - val_accuracy: 0.9087 - lr: 1.0000e-10\n",
            "Epoch 64/100\n",
            " 98/593 [===>..........................] - ETA: 31s - loss: 0.1822 - accuracy: 0.9260"
          ]
        }
      ],
      "source": [
        "# run model for gender\n",
        "gender_model.compile(loss=\"binary_crossentropy\", optimizer= tensorflow.optimizers.Adam(lr=0.001), metrics=[\"accuracy\"])\n",
        "\n",
        "# callbacks\n",
        "log_file_path = base_path + 'gender_training.log'\n",
        "csv_logger = CSVLogger(log_file_path, append=False)\n",
        "early_stop = EarlyStopping('val_loss', patience=patience)\n",
        "reduce_lr = ReduceLROnPlateau('val_loss', factor=0.1, patience=int(patience/4), verbose=1)\n",
        "trained_models_path = base_path + 'gender_model_Xception'\n",
        "model_names = trained_models_path + '.{epoch:02d}.hdf5'\n",
        "model_checkpoint = ModelCheckpoint(model_names, 'val_loss', verbose=1,save_best_only=True)\n",
        "callbacks = [model_checkpoint, csv_logger, early_stop, reduce_lr]\n",
        "\n",
        "gender = gender_model.fit(train2, verbose=1, callbacks=callbacks, validation_data=test2,  epochs=num_epochs,\n",
        "                batch_size=batch_size )"
      ]
    },
    {
      "cell_type": "code",
      "execution_count": null,
      "metadata": {
        "id": "k37M3OGrMcXX"
      },
      "outputs": [],
      "source": [
        "#Train and Validation Loss\n",
        "plt.plot(gender.history[\"loss\"],label=\"train loss\")\n",
        "plt.plot(gender.history[\"val_loss\"],label=\"val loss\")\n",
        "plt.legend()\n",
        "fig1 = plt.gcf() # I create figure because ı want to save\n",
        "plt.show()\n",
        "plt.draw()\n",
        "#fig1.savefig('genderclfloss.png')\n",
        "\n",
        "plt.figure()\n",
        "\n",
        "##Train and Validation Accuracy\n",
        "plt.plot(gender.history[\"accuracy\"],label=\"train acc\")\n",
        "plt.plot(gender.history[\"val_accuracy\"],label=\"val acc\")\n",
        "plt.xlabel(\"Epochs\")\n",
        "plt.ylabel(\"Accuracy\")\n",
        "plt.legend()\n",
        "\n",
        "fig2 = plt.gcf()\n",
        "plt.show()\n",
        "plt.draw()\n",
        "#fig2.savefig('genderclfacc.png')"
      ]
    },
    {
      "cell_type": "code",
      "execution_count": null,
      "metadata": {
        "id": "6dMA2P_bMVQ1"
      },
      "outputs": [],
      "source": [
        "## gender results\n",
        "results= gender_model.evaluate(x_test,y_test)\n",
        "print(\"Results: \",results)"
      ]
    },
    {
      "cell_type": "code",
      "execution_count": null,
      "metadata": {
        "id": "CNDv4mNfMslY"
      },
      "outputs": [],
      "source": [
        "#age= to_categorical(age,num_classes=7)"
      ]
    },
    {
      "cell_type": "code",
      "execution_count": null,
      "metadata": {
        "id": "vvjahBuCQJfC"
      },
      "outputs": [],
      "source": [
        ""
      ]
    }
  ],
  "metadata": {
    "accelerator": "GPU",
    "colab": {
      "collapsed_sections": [],
      "name": "gender_age_training_xception.ipynb",
      "provenance": []
    },
    "kernelspec": {
      "display_name": "Python 3",
      "name": "python3"
    },
    "language_info": {
      "name": "python"
    }
  },
  "nbformat": 4,
  "nbformat_minor": 0
}